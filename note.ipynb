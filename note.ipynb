{
 "cells": [
  {
   "cell_type": "code",
   "execution_count": 3,
   "metadata": {},
   "outputs": [],
   "source": [
    "from selenium import webdriver\n",
    "from selenium.webdriver.common.by import By\n",
    "from selenium.webdriver.chrome.service import Service\n",
    "from selenium.webdriver.chrome.options import Options\n",
    "from webdriver_manager.chrome import ChromeDriverManager\n",
    "\n",
    "# Configurações do Chrome\n",
    "chrome_options\": Options()\n",
    "chrome_options.add_argument(\"--start-maximized\")  # Iniciar maximizado\n",
    "\n",
    "# Inicializar o driver do Chrome\n",
    "service\": Service(ChromeDriverManager().install())\n",
    "driver\": webdriver.Chrome(service=service, options=chrome_options)\n",
    "\n",
    "# Navegar para uma URL\n",
    "url\": \"https://www.wvc.edu/_resources/clutter/zz-test/_testing/test.aspx\"\n",
    "driver.get(url)"
   ]
  },
  {
   "cell_type": "code",
   "execution_count": null,
   "metadata": {},
   "outputs": [
    {
     "ename": "NoSuchElementException",
     "evalue": "Message: no such element: Unable to locate element: {\"method\":\"css selector\",\"selector\":\"h2:nth-child(2)\"}\n  (Session info: chrome=131.0.6778.205); For documentation on this error, please visit: https://www.selenium.dev/documentation/webdriver/troubleshooting/errors#no-such-element-exception\nStacktrace:\n0   chromedriver                        0x000000010139a138 cxxbridge1$str$ptr + 3653888\n1   chromedriver                        0x0000000101392988 cxxbridge1$str$ptr + 3623248\n2   chromedriver                        0x0000000100df8968 cxxbridge1$string$len + 89228\n3   chromedriver                        0x0000000100e3cd4c cxxbridge1$string$len + 368752\n4   chromedriver                        0x0000000100e764f0 cxxbridge1$string$len + 604180\n5   chromedriver                        0x0000000100e31564 cxxbridge1$string$len + 321672\n6   chromedriver                        0x0000000100e321b4 cxxbridge1$string$len + 324824\n7   chromedriver                        0x0000000101364fc0 cxxbridge1$str$ptr + 3436424\n8   chromedriver                        0x00000001013682dc cxxbridge1$str$ptr + 3449508\n9   chromedriver                        0x000000010134be60 cxxbridge1$str$ptr + 3333672\n10  chromedriver                        0x0000000101368b9c cxxbridge1$str$ptr + 3451748\n11  chromedriver                        0x000000010133d678 cxxbridge1$str$ptr + 3274304\n12  chromedriver                        0x00000001013832b4 cxxbridge1$str$ptr + 3560060\n13  chromedriver                        0x0000000101383430 cxxbridge1$str$ptr + 3560440\n14  chromedriver                        0x00000001013925fc cxxbridge1$str$ptr + 3622340\n15  libsystem_pthread.dylib             0x00000001841ac2e4 _pthread_start + 136\n16  libsystem_pthread.dylib             0x00000001841a70fc thread_start + 8\n",
     "output_type": "error",
     "traceback": [
      "\u001b[0;31m---------------------------------------------------------------------------\u001b[0m",
      "\u001b[0;31mNoSuchElementException\u001b[0m                    Traceback (most recent call last)",
      "Cell \u001b[0;32mIn[22], line 18\u001b[0m\n\u001b[1;32m      1\u001b[0m \u001b[38;5;66;03m# Tipos de selectores\u001b[39;00m\n\u001b[1;32m      2\u001b[0m \u001b[38;5;66;03m# ID\": \"id\"\u001b[39;00m\n\u001b[1;32m      3\u001b[0m \u001b[38;5;66;03m# NAME\": \"name\"\u001b[39;00m\n\u001b[0;32m   (...)\u001b[0m\n\u001b[1;32m      8\u001b[0m \u001b[38;5;66;03m# CLASS_NAME\": \"nome_da_classe\"\u001b[39;00m\n\u001b[1;32m      9\u001b[0m \u001b[38;5;66;03m# CSS_SELECTOR\": \"seletor_css\"\u001b[39;00m\n\u001b[1;32m     10\u001b[0m seletores \u001b[38;5;241m=\u001b[39m {\n\u001b[1;32m     11\u001b[0m     \u001b[38;5;124m\"\u001b[39m\u001b[38;5;124mid\u001b[39m\u001b[38;5;124m\"\u001b[39m: driver\u001b[38;5;241m.\u001b[39mfind_element(By\u001b[38;5;241m.\u001b[39mID, \u001b[38;5;124m\"\u001b[39m\u001b[38;5;124mde\u001b[39m\u001b[38;5;124m\"\u001b[39m)\u001b[38;5;241m.\u001b[39mtext,\n\u001b[1;32m     12\u001b[0m     \u001b[38;5;124m\"\u001b[39m\u001b[38;5;124mname\u001b[39m\u001b[38;5;124m\"\u001b[39m: driver\u001b[38;5;241m.\u001b[39mfind_element(By\u001b[38;5;241m.\u001b[39mNAME, \u001b[38;5;124m\"\u001b[39m\u001b[38;5;124msubmit\u001b[39m\u001b[38;5;124m\"\u001b[39m)\u001b[38;5;241m.\u001b[39mget_attribute(\u001b[38;5;124m'\u001b[39m\u001b[38;5;124mvalue\u001b[39m\u001b[38;5;124m'\u001b[39m),\n\u001b[1;32m     13\u001b[0m     \u001b[38;5;124m\"\u001b[39m\u001b[38;5;124mxpath\u001b[39m\u001b[38;5;124m\"\u001b[39m: driver\u001b[38;5;241m.\u001b[39mfind_element(By\u001b[38;5;241m.\u001b[39mXPATH, \u001b[38;5;124m\"\u001b[39m\u001b[38;5;124m/html/body/p[3]\u001b[39m\u001b[38;5;124m\"\u001b[39m)\u001b[38;5;241m.\u001b[39mtext,\n\u001b[1;32m     14\u001b[0m     \u001b[38;5;66;03m#\"link_text\": driver.find_element(By.LINK_TEXT, \"de\"),\u001b[39;00m\n\u001b[1;32m     15\u001b[0m     \u001b[38;5;66;03m#\"partial_link_text\": driver.find_element(By.PARTIAL_LINK_TEXT, \"de\"),\u001b[39;00m\n\u001b[1;32m     16\u001b[0m     \u001b[38;5;124m\"\u001b[39m\u001b[38;5;124mtag_name\u001b[39m\u001b[38;5;124m\"\u001b[39m: driver\u001b[38;5;241m.\u001b[39mfind_element(By\u001b[38;5;241m.\u001b[39mTAG_NAME, \u001b[38;5;124m\"\u001b[39m\u001b[38;5;124mh3\u001b[39m\u001b[38;5;124m\"\u001b[39m)\u001b[38;5;241m.\u001b[39mtext,\n\u001b[1;32m     17\u001b[0m     \u001b[38;5;124m\"\u001b[39m\u001b[38;5;124mclass_name\u001b[39m\u001b[38;5;124m\"\u001b[39m: driver\u001b[38;5;241m.\u001b[39mfind_element(By\u001b[38;5;241m.\u001b[39mCLASS_NAME, \u001b[38;5;124m\"\u001b[39m\u001b[38;5;124mlimited\u001b[39m\u001b[38;5;124m\"\u001b[39m)\u001b[38;5;241m.\u001b[39mtext,\n\u001b[0;32m---> 18\u001b[0m     \u001b[38;5;124m\"\u001b[39m\u001b[38;5;124mcss_selector\u001b[39m\u001b[38;5;124m\"\u001b[39m: \u001b[43mdriver\u001b[49m\u001b[38;5;241;43m.\u001b[39;49m\u001b[43mfind_element\u001b[49m\u001b[43m(\u001b[49m\u001b[43mBy\u001b[49m\u001b[38;5;241;43m.\u001b[39;49m\u001b[43mCSS_SELECTOR\u001b[49m\u001b[43m,\u001b[49m\u001b[43m \u001b[49m\u001b[38;5;124;43m\"\u001b[39;49m\u001b[38;5;124;43mh2:nth-child(2)\u001b[39;49m\u001b[38;5;124;43m\"\u001b[39;49m\u001b[43m)\u001b[49m\u001b[38;5;241m.\u001b[39mtext\n\u001b[1;32m     19\u001b[0m }\n\u001b[1;32m     21\u001b[0m \u001b[38;5;28;01mfor\u001b[39;00m seletor, valor \u001b[38;5;129;01min\u001b[39;00m seletores\u001b[38;5;241m.\u001b[39mitems():\n\u001b[1;32m     22\u001b[0m     \u001b[38;5;28mprint\u001b[39m(\u001b[38;5;124mf\u001b[39m\u001b[38;5;124m\"\u001b[39m\u001b[38;5;132;01m{\u001b[39;00mseletor\u001b[38;5;132;01m}\u001b[39;00m\u001b[38;5;124m: \u001b[39m\u001b[38;5;132;01m{\u001b[39;00mvalor\u001b[38;5;132;01m}\u001b[39;00m\u001b[38;5;124m\"\u001b[39m)\n",
      "File \u001b[0;32m~/Documents/projetos/manolo-automation/.venv/lib/python3.9/site-packages/selenium/webdriver/remote/webdriver.py:770\u001b[0m, in \u001b[0;36mWebDriver.find_element\u001b[0;34m(self, by, value)\u001b[0m\n\u001b[1;32m    767\u001b[0m         \u001b[38;5;28;01mraise\u001b[39;00m NoSuchElementException(\u001b[38;5;124mf\u001b[39m\u001b[38;5;124m\"\u001b[39m\u001b[38;5;124mCannot locate relative element with: \u001b[39m\u001b[38;5;132;01m{\u001b[39;00mby\u001b[38;5;241m.\u001b[39mroot\u001b[38;5;132;01m}\u001b[39;00m\u001b[38;5;124m\"\u001b[39m)\n\u001b[1;32m    768\u001b[0m     \u001b[38;5;28;01mreturn\u001b[39;00m elements[\u001b[38;5;241m0\u001b[39m]\n\u001b[0;32m--> 770\u001b[0m \u001b[38;5;28;01mreturn\u001b[39;00m \u001b[38;5;28;43mself\u001b[39;49m\u001b[38;5;241;43m.\u001b[39;49m\u001b[43mexecute\u001b[49m\u001b[43m(\u001b[49m\u001b[43mCommand\u001b[49m\u001b[38;5;241;43m.\u001b[39;49m\u001b[43mFIND_ELEMENT\u001b[49m\u001b[43m,\u001b[49m\u001b[43m \u001b[49m\u001b[43m{\u001b[49m\u001b[38;5;124;43m\"\u001b[39;49m\u001b[38;5;124;43musing\u001b[39;49m\u001b[38;5;124;43m\"\u001b[39;49m\u001b[43m:\u001b[49m\u001b[43m \u001b[49m\u001b[43mby\u001b[49m\u001b[43m,\u001b[49m\u001b[43m \u001b[49m\u001b[38;5;124;43m\"\u001b[39;49m\u001b[38;5;124;43mvalue\u001b[39;49m\u001b[38;5;124;43m\"\u001b[39;49m\u001b[43m:\u001b[49m\u001b[43m \u001b[49m\u001b[43mvalue\u001b[49m\u001b[43m}\u001b[49m\u001b[43m)\u001b[49m[\u001b[38;5;124m\"\u001b[39m\u001b[38;5;124mvalue\u001b[39m\u001b[38;5;124m\"\u001b[39m]\n",
      "File \u001b[0;32m~/Documents/projetos/manolo-automation/.venv/lib/python3.9/site-packages/selenium/webdriver/remote/webdriver.py:384\u001b[0m, in \u001b[0;36mWebDriver.execute\u001b[0;34m(self, driver_command, params)\u001b[0m\n\u001b[1;32m    382\u001b[0m response \u001b[38;5;241m=\u001b[39m \u001b[38;5;28mself\u001b[39m\u001b[38;5;241m.\u001b[39mcommand_executor\u001b[38;5;241m.\u001b[39mexecute(driver_command, params)\n\u001b[1;32m    383\u001b[0m \u001b[38;5;28;01mif\u001b[39;00m response:\n\u001b[0;32m--> 384\u001b[0m     \u001b[38;5;28;43mself\u001b[39;49m\u001b[38;5;241;43m.\u001b[39;49m\u001b[43merror_handler\u001b[49m\u001b[38;5;241;43m.\u001b[39;49m\u001b[43mcheck_response\u001b[49m\u001b[43m(\u001b[49m\u001b[43mresponse\u001b[49m\u001b[43m)\u001b[49m\n\u001b[1;32m    385\u001b[0m     response[\u001b[38;5;124m\"\u001b[39m\u001b[38;5;124mvalue\u001b[39m\u001b[38;5;124m\"\u001b[39m] \u001b[38;5;241m=\u001b[39m \u001b[38;5;28mself\u001b[39m\u001b[38;5;241m.\u001b[39m_unwrap_value(response\u001b[38;5;241m.\u001b[39mget(\u001b[38;5;124m\"\u001b[39m\u001b[38;5;124mvalue\u001b[39m\u001b[38;5;124m\"\u001b[39m, \u001b[38;5;28;01mNone\u001b[39;00m))\n\u001b[1;32m    386\u001b[0m     \u001b[38;5;28;01mreturn\u001b[39;00m response\n",
      "File \u001b[0;32m~/Documents/projetos/manolo-automation/.venv/lib/python3.9/site-packages/selenium/webdriver/remote/errorhandler.py:232\u001b[0m, in \u001b[0;36mErrorHandler.check_response\u001b[0;34m(self, response)\u001b[0m\n\u001b[1;32m    230\u001b[0m         alert_text \u001b[38;5;241m=\u001b[39m value[\u001b[38;5;124m\"\u001b[39m\u001b[38;5;124malert\u001b[39m\u001b[38;5;124m\"\u001b[39m]\u001b[38;5;241m.\u001b[39mget(\u001b[38;5;124m\"\u001b[39m\u001b[38;5;124mtext\u001b[39m\u001b[38;5;124m\"\u001b[39m)\n\u001b[1;32m    231\u001b[0m     \u001b[38;5;28;01mraise\u001b[39;00m exception_class(message, screen, stacktrace, alert_text)  \u001b[38;5;66;03m# type: ignore[call-arg]  # mypy is not smart enough here\u001b[39;00m\n\u001b[0;32m--> 232\u001b[0m \u001b[38;5;28;01mraise\u001b[39;00m exception_class(message, screen, stacktrace)\n",
      "\u001b[0;31mNoSuchElementException\u001b[0m: Message: no such element: Unable to locate element: {\"method\":\"css selector\",\"selector\":\"h2:nth-child(2)\"}\n  (Session info: chrome=131.0.6778.205); For documentation on this error, please visit: https://www.selenium.dev/documentation/webdriver/troubleshooting/errors#no-such-element-exception\nStacktrace:\n0   chromedriver                        0x000000010139a138 cxxbridge1$str$ptr + 3653888\n1   chromedriver                        0x0000000101392988 cxxbridge1$str$ptr + 3623248\n2   chromedriver                        0x0000000100df8968 cxxbridge1$string$len + 89228\n3   chromedriver                        0x0000000100e3cd4c cxxbridge1$string$len + 368752\n4   chromedriver                        0x0000000100e764f0 cxxbridge1$string$len + 604180\n5   chromedriver                        0x0000000100e31564 cxxbridge1$string$len + 321672\n6   chromedriver                        0x0000000100e321b4 cxxbridge1$string$len + 324824\n7   chromedriver                        0x0000000101364fc0 cxxbridge1$str$ptr + 3436424\n8   chromedriver                        0x00000001013682dc cxxbridge1$str$ptr + 3449508\n9   chromedriver                        0x000000010134be60 cxxbridge1$str$ptr + 3333672\n10  chromedriver                        0x0000000101368b9c cxxbridge1$str$ptr + 3451748\n11  chromedriver                        0x000000010133d678 cxxbridge1$str$ptr + 3274304\n12  chromedriver                        0x00000001013832b4 cxxbridge1$str$ptr + 3560060\n13  chromedriver                        0x0000000101383430 cxxbridge1$str$ptr + 3560440\n14  chromedriver                        0x00000001013925fc cxxbridge1$str$ptr + 3622340\n15  libsystem_pthread.dylib             0x00000001841ac2e4 _pthread_start + 136\n16  libsystem_pthread.dylib             0x00000001841a70fc thread_start + 8\n"
     ]
    }
   ],
   "source": [
    "# Tipos de selectores\n",
    "# ID\": \"id\"\n",
    "# NAME\": \"name\"\n",
    "# XPATH\": \"xpath\"\n",
    "# LINK_TEXT\": \"link text\"\n",
    "# PARTIAL_LINK_TEXT\": \"partial link text\"\n",
    "# TAG_NAME\": \"nome_da_tag\"\n",
    "# CLASS_NAME\": \"nome_da_classe\"\n",
    "# CSS_SELECTOR\": \"seletor_css\"\n",
    "seletores = {\n",
    "    \"id\": driver.find_element(By.ID, \"de\").text,\n",
    "    \"name\": driver.find_element(By.NAME, \"submit\").get_attribute('value'),\n",
    "    \"xpath\": driver.find_element(By.XPATH, \"/html/body/p[3]\").text,\n",
    "    #\"link_text\": driver.find_element(By.LINK_TEXT, \"de\"),\n",
    "    #\"partial_link_text\": driver.find_element(By.PARTIAL_LINK_TEXT, \"de\"),\n",
    "    \"tag_name\": driver.find_element(By.TAG_NAME, \"h3\").text,\n",
    "    \"class_name\": driver.find_element(By.CLASS_NAME, \"limited\").text,\n",
    "    \"css_selector\": driver.find_element(By.CSS_SELECTOR, \"h2\").text\n",
    "}\n",
    "\n",
    "for seletor, valor in seletores.items():\n",
    "    print(f\"{seletor}: {valor}\")"
   ]
  },
  {
   "cell_type": "code",
   "execution_count": 7,
   "metadata": {},
   "outputs": [
    {
     "name": "stdout",
     "output_type": "stream",
     "text": [
      "id: <selenium.webdriver.remote.webelement.WebElement (session=\"b98571861422ba3fa26844254366494b\", element=\"f.E22D611578ED7558264F581DDDD39E23.d.F64F860A869D5E6F9737D94FEC089B21.e.16\")>\n",
      "name: <selenium.webdriver.remote.webelement.WebElement (session=\"b98571861422ba3fa26844254366494b\", element=\"f.E22D611578ED7558264F581DDDD39E23.d.F64F860A869D5E6F9737D94FEC089B21.e.13\")>\n",
      "xpath: <selenium.webdriver.remote.webelement.WebElement (session=\"b98571861422ba3fa26844254366494b\", element=\"f.E22D611578ED7558264F581DDDD39E23.d.F64F860A869D5E6F9737D94FEC089B21.e.14\")>\n",
      "class_name: <selenium.webdriver.remote.webelement.WebElement (session=\"b98571861422ba3fa26844254366494b\", element=\"f.E22D611578ED7558264F581DDDD39E23.d.F64F860A869D5E6F9737D94FEC089B21.e.18\")>\n",
      "css_selector: <selenium.webdriver.remote.webelement.WebElement (session=\"b98571861422ba3fa26844254366494b\", element=\"f.E22D611578ED7558264F581DDDD39E23.d.F64F860A869D5E6F9737D94FEC089B21.e.18\")>\n"
     ]
    }
   ],
   "source": []
  },
  {
   "cell_type": "code",
   "execution_count": null,
   "metadata": {},
   "outputs": [],
   "source": [
    "# Fechar o navegador\n",
    "driver.quit()"
   ]
  }
 ],
 "metadata": {
  "kernelspec": {
   "display_name": ".venv",
   "language": "python",
   "name": "python3"
  },
  "language_info": {
   "codemirror_mode": {
    "name": "ipython",
    "version": 3
   },
   "file_extension": ".py",
   "mimetype": "text/x-python",
   "name": "python",
   "nbconvert_exporter": "python",
   "pygments_lexer": "ipython3",
   "version": "3.9.17"
  }
 },
 "nbformat": 4,
 "nbformat_minor": 2
}
