{
 "cells": [
  {
   "cell_type": "code",
   "execution_count": 3,
   "metadata": {},
   "outputs": [],
   "source": [
    "from selenium import webdriver\n",
    "from selenium.webdriver.common.by import By\n",
    "from selenium.webdriver.chrome.service import Service\n",
    "from selenium.webdriver.chrome.options import Options\n",
    "from webdriver_manager.chrome import ChromeDriverManager\n",
    "\n",
    "# Configurações do Chrome\n",
    "chrome_options\": Options()\n",
    "chrome_options.add_argument(\"--start-maximized\")  # Iniciar maximizado\n",
    "\n",
    "# Inicializar o driver do Chrome\n",
    "service\": Service(ChromeDriverManager().install())\n",
    "driver\": webdriver.Chrome(service=service, options=chrome_options)\n",
    "\n",
    "# Navegar para uma URL\n",
    "url\": \"https://www.wvc.edu/_resources/clutter/zz-test/_testing/test.aspx\"\n",
    "driver.get(url)"
   ]
  },
  {
   "cell_type": "code",
   "execution_count": 23,
   "metadata": {},
   "outputs": [
    {
     "name": "stdout",
     "output_type": "stream",
     "text": [
      "id: ©\n",
      "name: Just a test\n",
      "xpath: This is a test paragraph.\n",
      "tag_name: This is 3rd level heading\n",
      "class_name: Until recently the great majority of naturalists believed that species were immutable productions, and had been separately created. This view has been ably maintained by many authors.\n",
      "css_selector: This is 2nd level heading\n"
     ]
    }
   ],
   "source": [
    "# Tipos de selectores\n",
    "# ID\": \"id\"\n",
    "# NAME\": \"name\"\n",
    "# XPATH\": \"xpath\"\n",
    "# LINK_TEXT\": \"link text\"\n",
    "# PARTIAL_LINK_TEXT\": \"partial link text\"\n",
    "# TAG_NAME\": \"nome_da_tag\"\n",
    "# CLASS_NAME\": \"nome_da_classe\"\n",
    "# CSS_SELECTOR\": \"seletor_css\"\n",
    "seletores = {\n",
    "    \"id\": driver.find_element(By.ID, \"de\").text,\n",
    "    \"name\": driver.find_element(By.NAME, \"submit\").get_attribute('value'),\n",
    "    \"xpath\": driver.find_element(By.XPATH, \"/html/body/p[3]\").text,\n",
    "    #\"link_text\": driver.find_element(By.LINK_TEXT, \"de\"),\n",
    "    #\"partial_link_text\": driver.find_element(By.PARTIAL_LINK_TEXT, \"de\"),\n",
    "    \"tag_name\": driver.find_element(By.TAG_NAME, \"h3\").text,\n",
    "    \"class_name\": driver.find_element(By.CLASS_NAME, \"limited\").text,\n",
    "    \"css_selector\": driver.find_element(By.CSS_SELECTOR, \"h2\").text\n",
    "}\n",
    "\n",
    "for seletor, valor in seletores.items():\n",
    "    print(f\"{seletor}: {valor}\")"
   ]
  },
  {
   "cell_type": "code",
   "execution_count": null,
   "metadata": {},
   "outputs": [],
   "source": [
    "# Fechar o navegador\n",
    "driver.quit()"
   ]
  }
 ],
 "metadata": {
  "kernelspec": {
   "display_name": ".venv",
   "language": "python",
   "name": "python3"
  },
  "language_info": {
   "codemirror_mode": {
    "name": "ipython",
    "version": 3
   },
   "file_extension": ".py",
   "mimetype": "text/x-python",
   "name": "python",
   "nbconvert_exporter": "python",
   "pygments_lexer": "ipython3",
   "version": "3.9.17"
  }
 },
 "nbformat": 4,
 "nbformat_minor": 2
}
